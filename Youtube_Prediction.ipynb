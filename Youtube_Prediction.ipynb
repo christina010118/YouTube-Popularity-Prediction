{
 "cells": [
  {
   "cell_type": "markdown",
   "id": "f5680d2c",
   "metadata": {},
   "source": [
    "# 1. Preprocessing\n",
    "\n",
    "## 1-a. Import Data and libraries"
   ]
  },
  {
   "cell_type": "code",
   "execution_count": 1,
   "id": "38d9c9b8",
   "metadata": {},
   "outputs": [],
   "source": [
    "#Loading library\n",
    "import pandas as pd\n",
    "import matplotlib.pyplot as plt\n",
    "import seaborn as sns\n",
    "import re\n",
    "import time\n",
    "import numpy as np"
   ]
  },
  {
   "cell_type": "code",
   "execution_count": 2,
   "id": "85cde8ea",
   "metadata": {},
   "outputs": [
    {
     "data": {
      "text/html": [
       "<div>\n",
       "<style scoped>\n",
       "    .dataframe tbody tr th:only-of-type {\n",
       "        vertical-align: middle;\n",
       "    }\n",
       "\n",
       "    .dataframe tbody tr th {\n",
       "        vertical-align: top;\n",
       "    }\n",
       "\n",
       "    .dataframe thead th {\n",
       "        text-align: right;\n",
       "    }\n",
       "</style>\n",
       "<table border=\"1\" class=\"dataframe\">\n",
       "  <thead>\n",
       "    <tr style=\"text-align: right;\">\n",
       "      <th></th>\n",
       "      <th>category</th>\n",
       "      <th>viewCount</th>\n",
       "      <th>likeCount</th>\n",
       "      <th>commentCount</th>\n",
       "      <th>duration</th>\n",
       "      <th>made_for_kids</th>\n",
       "      <th>viewPerComment</th>\n",
       "      <th>tagsCount</th>\n",
       "      <th>year</th>\n",
       "      <th>weekday</th>\n",
       "      <th>month</th>\n",
       "      <th>time_of_day</th>\n",
       "      <th>title_length</th>\n",
       "    </tr>\n",
       "  </thead>\n",
       "  <tbody>\n",
       "    <tr>\n",
       "      <th>0</th>\n",
       "      <td>5</td>\n",
       "      <td>2</td>\n",
       "      <td>39271</td>\n",
       "      <td>2538</td>\n",
       "      <td>4</td>\n",
       "      <td>0</td>\n",
       "      <td>165.401103</td>\n",
       "      <td>8</td>\n",
       "      <td>2023</td>\n",
       "      <td>0</td>\n",
       "      <td>5</td>\n",
       "      <td>0</td>\n",
       "      <td>18</td>\n",
       "    </tr>\n",
       "    <tr>\n",
       "      <th>1</th>\n",
       "      <td>5</td>\n",
       "      <td>4</td>\n",
       "      <td>156694</td>\n",
       "      <td>6633</td>\n",
       "      <td>3</td>\n",
       "      <td>0</td>\n",
       "      <td>364.847128</td>\n",
       "      <td>6</td>\n",
       "      <td>2023</td>\n",
       "      <td>6</td>\n",
       "      <td>5</td>\n",
       "      <td>0</td>\n",
       "      <td>35</td>\n",
       "    </tr>\n",
       "    <tr>\n",
       "      <th>2</th>\n",
       "      <td>5</td>\n",
       "      <td>4</td>\n",
       "      <td>78836</td>\n",
       "      <td>2315</td>\n",
       "      <td>5</td>\n",
       "      <td>0</td>\n",
       "      <td>742.543413</td>\n",
       "      <td>3</td>\n",
       "      <td>2023</td>\n",
       "      <td>5</td>\n",
       "      <td>5</td>\n",
       "      <td>1</td>\n",
       "      <td>34</td>\n",
       "    </tr>\n",
       "    <tr>\n",
       "      <th>3</th>\n",
       "      <td>5</td>\n",
       "      <td>4</td>\n",
       "      <td>119458</td>\n",
       "      <td>5293</td>\n",
       "      <td>2</td>\n",
       "      <td>0</td>\n",
       "      <td>390.751181</td>\n",
       "      <td>9</td>\n",
       "      <td>2023</td>\n",
       "      <td>4</td>\n",
       "      <td>5</td>\n",
       "      <td>0</td>\n",
       "      <td>30</td>\n",
       "    </tr>\n",
       "    <tr>\n",
       "      <th>4</th>\n",
       "      <td>5</td>\n",
       "      <td>4</td>\n",
       "      <td>113299</td>\n",
       "      <td>4649</td>\n",
       "      <td>2</td>\n",
       "      <td>0</td>\n",
       "      <td>440.775436</td>\n",
       "      <td>9</td>\n",
       "      <td>2023</td>\n",
       "      <td>3</td>\n",
       "      <td>5</td>\n",
       "      <td>1</td>\n",
       "      <td>16</td>\n",
       "    </tr>\n",
       "  </tbody>\n",
       "</table>\n",
       "</div>"
      ],
      "text/plain": [
       "   category  viewCount  likeCount  commentCount  duration  made_for_kids  \\\n",
       "0         5          2      39271          2538         4              0   \n",
       "1         5          4     156694          6633         3              0   \n",
       "2         5          4      78836          2315         5              0   \n",
       "3         5          4     119458          5293         2              0   \n",
       "4         5          4     113299          4649         2              0   \n",
       "\n",
       "   viewPerComment  tagsCount  year  weekday  month  time_of_day  title_length  \n",
       "0      165.401103          8  2023        0      5            0            18  \n",
       "1      364.847128          6  2023        6      5            0            35  \n",
       "2      742.543413          3  2023        5      5            1            34  \n",
       "3      390.751181          9  2023        4      5            0            30  \n",
       "4      440.775436          9  2023        3      5            1            16  "
      ]
     },
     "execution_count": 2,
     "metadata": {},
     "output_type": "execute_result"
    }
   ],
   "source": [
    "df = pd.read_csv(\"cleaned_data.csv\",index_col=0)\n",
    "df = df.drop('time',axis=1)\n",
    "df.head()"
   ]
  },
  {
   "cell_type": "code",
   "execution_count": 3,
   "id": "36ffa9ed",
   "metadata": {},
   "outputs": [
    {
     "data": {
      "text/html": [
       "<div>\n",
       "<style scoped>\n",
       "    .dataframe tbody tr th:only-of-type {\n",
       "        vertical-align: middle;\n",
       "    }\n",
       "\n",
       "    .dataframe tbody tr th {\n",
       "        vertical-align: top;\n",
       "    }\n",
       "\n",
       "    .dataframe thead th {\n",
       "        text-align: right;\n",
       "    }\n",
       "</style>\n",
       "<table border=\"1\" class=\"dataframe\">\n",
       "  <thead>\n",
       "    <tr style=\"text-align: right;\">\n",
       "      <th></th>\n",
       "      <th>category</th>\n",
       "      <th>viewCount</th>\n",
       "      <th>likeCount</th>\n",
       "      <th>commentCount</th>\n",
       "      <th>duration</th>\n",
       "      <th>made_for_kids</th>\n",
       "      <th>viewPerComment</th>\n",
       "      <th>tagsCount</th>\n",
       "      <th>year</th>\n",
       "      <th>weekday</th>\n",
       "      <th>month</th>\n",
       "      <th>time_of_day</th>\n",
       "      <th>title_length</th>\n",
       "    </tr>\n",
       "  </thead>\n",
       "  <tbody>\n",
       "    <tr>\n",
       "      <th>count</th>\n",
       "      <td>34621.000000</td>\n",
       "      <td>34621.000000</td>\n",
       "      <td>3.462100e+04</td>\n",
       "      <td>34621.000000</td>\n",
       "      <td>34621.000000</td>\n",
       "      <td>34621.000000</td>\n",
       "      <td>34621.000000</td>\n",
       "      <td>34621.000000</td>\n",
       "      <td>34621.000000</td>\n",
       "      <td>34621.000000</td>\n",
       "      <td>34621.000000</td>\n",
       "      <td>34621.000000</td>\n",
       "      <td>34621.000000</td>\n",
       "    </tr>\n",
       "    <tr>\n",
       "      <th>mean</th>\n",
       "      <td>6.226972</td>\n",
       "      <td>3.089310</td>\n",
       "      <td>7.358566e+04</td>\n",
       "      <td>4437.750296</td>\n",
       "      <td>1.826926</td>\n",
       "      <td>0.000289</td>\n",
       "      <td>883.064358</td>\n",
       "      <td>15.499928</td>\n",
       "      <td>2017.403223</td>\n",
       "      <td>2.958378</td>\n",
       "      <td>6.479160</td>\n",
       "      <td>0.827821</td>\n",
       "      <td>50.488721</td>\n",
       "    </tr>\n",
       "    <tr>\n",
       "      <th>std</th>\n",
       "      <td>3.528896</td>\n",
       "      <td>1.501606</td>\n",
       "      <td>2.058486e+05</td>\n",
       "      <td>10732.664863</td>\n",
       "      <td>1.433032</td>\n",
       "      <td>0.016993</td>\n",
       "      <td>1395.020067</td>\n",
       "      <td>11.285734</td>\n",
       "      <td>3.458414</td>\n",
       "      <td>1.949366</td>\n",
       "      <td>3.455963</td>\n",
       "      <td>0.611762</td>\n",
       "      <td>22.123522</td>\n",
       "    </tr>\n",
       "    <tr>\n",
       "      <th>min</th>\n",
       "      <td>0.000000</td>\n",
       "      <td>0.000000</td>\n",
       "      <td>0.000000e+00</td>\n",
       "      <td>0.000000</td>\n",
       "      <td>0.000000</td>\n",
       "      <td>0.000000</td>\n",
       "      <td>0.000000</td>\n",
       "      <td>0.000000</td>\n",
       "      <td>2008.000000</td>\n",
       "      <td>0.000000</td>\n",
       "      <td>1.000000</td>\n",
       "      <td>0.000000</td>\n",
       "      <td>1.000000</td>\n",
       "    </tr>\n",
       "    <tr>\n",
       "      <th>25%</th>\n",
       "      <td>5.000000</td>\n",
       "      <td>2.000000</td>\n",
       "      <td>4.579000e+03</td>\n",
       "      <td>337.000000</td>\n",
       "      <td>1.000000</td>\n",
       "      <td>0.000000</td>\n",
       "      <td>313.686341</td>\n",
       "      <td>7.000000</td>\n",
       "      <td>2015.000000</td>\n",
       "      <td>1.000000</td>\n",
       "      <td>3.000000</td>\n",
       "      <td>0.000000</td>\n",
       "      <td>35.000000</td>\n",
       "    </tr>\n",
       "    <tr>\n",
       "      <th>50%</th>\n",
       "      <td>5.000000</td>\n",
       "      <td>3.000000</td>\n",
       "      <td>2.400400e+04</td>\n",
       "      <td>1487.000000</td>\n",
       "      <td>2.000000</td>\n",
       "      <td>0.000000</td>\n",
       "      <td>540.695203</td>\n",
       "      <td>14.000000</td>\n",
       "      <td>2018.000000</td>\n",
       "      <td>3.000000</td>\n",
       "      <td>6.000000</td>\n",
       "      <td>1.000000</td>\n",
       "      <td>48.000000</td>\n",
       "    </tr>\n",
       "    <tr>\n",
       "      <th>75%</th>\n",
       "      <td>7.000000</td>\n",
       "      <td>4.000000</td>\n",
       "      <td>7.497000e+04</td>\n",
       "      <td>4660.000000</td>\n",
       "      <td>2.000000</td>\n",
       "      <td>0.000000</td>\n",
       "      <td>1011.403274</td>\n",
       "      <td>23.000000</td>\n",
       "      <td>2020.000000</td>\n",
       "      <td>5.000000</td>\n",
       "      <td>9.000000</td>\n",
       "      <td>1.000000</td>\n",
       "      <td>64.000000</td>\n",
       "    </tr>\n",
       "    <tr>\n",
       "      <th>max</th>\n",
       "      <td>14.000000</td>\n",
       "      <td>9.000000</td>\n",
       "      <td>1.219854e+07</td>\n",
       "      <td>617657.000000</td>\n",
       "      <td>5.000000</td>\n",
       "      <td>1.000000</td>\n",
       "      <td>89817.454545</td>\n",
       "      <td>83.000000</td>\n",
       "      <td>2023.000000</td>\n",
       "      <td>6.000000</td>\n",
       "      <td>12.000000</td>\n",
       "      <td>2.000000</td>\n",
       "      <td>101.000000</td>\n",
       "    </tr>\n",
       "  </tbody>\n",
       "</table>\n",
       "</div>"
      ],
      "text/plain": [
       "           category     viewCount     likeCount   commentCount      duration  \\\n",
       "count  34621.000000  34621.000000  3.462100e+04   34621.000000  34621.000000   \n",
       "mean       6.226972      3.089310  7.358566e+04    4437.750296      1.826926   \n",
       "std        3.528896      1.501606  2.058486e+05   10732.664863      1.433032   \n",
       "min        0.000000      0.000000  0.000000e+00       0.000000      0.000000   \n",
       "25%        5.000000      2.000000  4.579000e+03     337.000000      1.000000   \n",
       "50%        5.000000      3.000000  2.400400e+04    1487.000000      2.000000   \n",
       "75%        7.000000      4.000000  7.497000e+04    4660.000000      2.000000   \n",
       "max       14.000000      9.000000  1.219854e+07  617657.000000      5.000000   \n",
       "\n",
       "       made_for_kids  viewPerComment     tagsCount          year  \\\n",
       "count   34621.000000    34621.000000  34621.000000  34621.000000   \n",
       "mean        0.000289      883.064358     15.499928   2017.403223   \n",
       "std         0.016993     1395.020067     11.285734      3.458414   \n",
       "min         0.000000        0.000000      0.000000   2008.000000   \n",
       "25%         0.000000      313.686341      7.000000   2015.000000   \n",
       "50%         0.000000      540.695203     14.000000   2018.000000   \n",
       "75%         0.000000     1011.403274     23.000000   2020.000000   \n",
       "max         1.000000    89817.454545     83.000000   2023.000000   \n",
       "\n",
       "            weekday         month   time_of_day  title_length  \n",
       "count  34621.000000  34621.000000  34621.000000  34621.000000  \n",
       "mean       2.958378      6.479160      0.827821     50.488721  \n",
       "std        1.949366      3.455963      0.611762     22.123522  \n",
       "min        0.000000      1.000000      0.000000      1.000000  \n",
       "25%        1.000000      3.000000      0.000000     35.000000  \n",
       "50%        3.000000      6.000000      1.000000     48.000000  \n",
       "75%        5.000000      9.000000      1.000000     64.000000  \n",
       "max        6.000000     12.000000      2.000000    101.000000  "
      ]
     },
     "execution_count": 3,
     "metadata": {},
     "output_type": "execute_result"
    }
   ],
   "source": [
    "df.describe()"
   ]
  },
  {
   "attachments": {
    "image-2.png": {
     "image/png": "[encoded data removed]"
    },
    "image-3.png": {
     "image/png": "[encoded data removed]"
    },
    "image.png": {
     "image/png": "[encoded data removed]"
    }
   },
   "cell_type": "markdown",
   "id": "e15780db",
   "metadata": {},
   "source": [
    "#### KeyTable for references:\n",
    "\n",
    "1. Category\n",
    "![image.png](attachment:image.png)\n",
    "\n",
    "2. Duration\n",
    "\n",
    "![image-3.png](attachment:image-3.png)\n",
    "\n",
    "3. View Counts (Response Variable)\n",
    "\n",
    "![image-2.png](attachment:image-2.png)"
   ]
  },
  {
   "cell_type": "markdown",
   "id": "1d15566a",
   "metadata": {},
   "source": [
    "## 1-b. Train, test split"
   ]
  },
  {
   "cell_type": "code",
   "execution_count": 4,
   "id": "74e21da7",
   "metadata": {},
   "outputs": [],
   "source": [
    "#split the data into train and test set\n",
    "\n",
    "from sklearn.model_selection import train_test_split\n",
    "\n",
    "np.random.seed(1111)\n",
    "raw_train, raw_test = train_test_split(df, test_size = 0.2)"
   ]
  },
  {
   "cell_type": "code",
   "execution_count": 5,
   "id": "2e116f02",
   "metadata": {},
   "outputs": [],
   "source": [
    "X = df.drop(['viewCount'], axis = 1)\n",
    "y = df['viewCount']\n",
    "\n",
    "X_train, X_test, y_train,  y_test  = train_test_split(X, y, test_size = 0.2)"
   ]
  },
  {
   "cell_type": "code",
   "execution_count": 6,
   "id": "daf2b09a",
   "metadata": {},
   "outputs": [
    {
     "data": {
      "text/plain": [
       "(27696,)"
      ]
     },
     "execution_count": 6,
     "metadata": {},
     "output_type": "execute_result"
    }
   ],
   "source": [
    "y_train.shape"
   ]
  },
  {
   "cell_type": "markdown",
   "id": "c8cfef76",
   "metadata": {},
   "source": [
    "## 1-c. Scaling data"
   ]
  },
  {
   "cell_type": "code",
   "execution_count": 55,
   "id": "008a33bb",
   "metadata": {},
   "outputs": [],
   "source": [
    "from sklearn.preprocessing import MinMaxScaler\n",
    "\n",
    "scaler = MinMaxScaler()\n",
    "X_train1 = scaler.fit_transform(df)\n"
   ]
  },
  {
   "cell_type": "markdown",
   "id": "455c565b",
   "metadata": {},
   "source": [
    "# 2. Variable Selection using Recursive Feature Elimination (RFE)"
   ]
  },
  {
   "cell_type": "code",
   "execution_count": 73,
   "id": "0055206d",
   "metadata": {
    "scrolled": true
   },
   "outputs": [
    {
     "name": "stdout",
     "output_type": "stream",
     "text": [
      "          Feature  Selected  Rank\n",
      "3        duration      True     1\n",
      "4   made_for_kids      True     1\n",
      "7            year      True     1\n",
      "10    time_of_day      True     1\n",
      "11   title_length      True     1\n",
      "       duration  made_for_kids  year  time_of_day  title_length\n",
      "11186         4              0  2015            1            73\n",
      "2321          1              0  2016            0            31\n",
      "17872         1              0  2013            1            63\n",
      "12283         1              0  2020            1             9\n",
      "28972         0              0  2022            1            23\n"
     ]
    }
   ],
   "source": [
    "from sklearn.feature_selection import RFE\n",
    "from sklearn.linear_model import LinearRegression\n",
    "\n",
    "\n",
    "model = LinearRegression()\n",
    "rfe = RFE(estimator = model, n_features_to_select = 5)\n",
    "\n",
    "rfe.fit(X_train, y_train)\n",
    "\n",
    "selected_features = pd.DataFrame({'Feature': X_train.columns, 'Selected': rfe.support_, 'Rank': rfe.ranking_})\n",
    "\n",
    "print(selected_features[selected_features['Selected']])\n",
    "\n",
    "X_train = X_train[X_train.columns[rfe.support_]]\n",
    "print(X_train.head())"
   ]
  },
  {
   "cell_type": "markdown",
   "id": "7c4cd79b",
   "metadata": {},
   "source": [
    "**Update the test data**"
   ]
  },
  {
   "cell_type": "code",
   "execution_count": 74,
   "id": "2619eff0",
   "metadata": {},
   "outputs": [],
   "source": [
    "X_test = X_test[X_test.columns[rfe.support_]]"
   ]
  },
  {
   "cell_type": "markdown",
   "id": "503c8ddf",
   "metadata": {},
   "source": [
    "# 3. Model Implementation\n",
    "\n",
    "## 3-a. Random Forest"
   ]
  },
  {
   "cell_type": "markdown",
   "id": "7743d41c",
   "metadata": {},
   "source": [
    "**Initial Model**"
   ]
  },
  {
   "cell_type": "code",
   "execution_count": 75,
   "id": "3db705f7",
   "metadata": {},
   "outputs": [],
   "source": [
    "# Initial Model \n",
    "from sklearn.ensemble import RandomForestClassifier\n",
    "RF = RandomForestClassifier(n_estimators=300, \n",
    "                             max_depth=3)\n",
    "\n",
    "# Fit RandomForestClassifier\n",
    "RF.fit(X_train, y_train)\n",
    "# Predict the test set labels\n",
    "y_pred = RF.predict(X_test)"
   ]
  },
  {
   "cell_type": "code",
   "execution_count": 76,
   "id": "9a6a2778",
   "metadata": {},
   "outputs": [
    {
     "name": "stdout",
     "output_type": "stream",
     "text": [
      "Test score:  0.4563176895306859\n",
      "Training score:  0.4504621606008088\n"
     ]
    }
   ],
   "source": [
    "print(\"Test score: \",RF.score(X_test, y_test))\n",
    "print(\"Training score: \", RF.score(X_train, y_train))"
   ]
  },
  {
   "cell_type": "markdown",
   "id": "99c56f70",
   "metadata": {},
   "source": [
    "**Hyperparameter tuning with cross validation**"
   ]
  },
  {
   "cell_type": "code",
   "execution_count": 77,
   "id": "90c84e1f",
   "metadata": {},
   "outputs": [
    {
     "name": "stderr",
     "output_type": "stream",
     "text": [
      "/Users/oliviawang/opt/anaconda3/envs/tf/lib/python3.10/site-packages/sklearn/model_selection/_split.py:684: UserWarning: The least populated class in y has only 4 members, which is less than n_splits=5.\n",
      "  warnings.warn(\n"
     ]
    },
    {
     "name": "stdout",
     "output_type": "stream",
     "text": [
      "Test score:  0.5023826714801444\n",
      "Training score:  0.5307625649913345\n",
      "Best parameters:  {'max_depth': 9, 'n_estimators': 100}\n"
     ]
    }
   ],
   "source": [
    "from sklearn.model_selection import GridSearchCV\n",
    "from sklearn.ensemble import RandomForestClassifier\n",
    "\n",
    "# Hyperameter grid\n",
    "param_grid = {\n",
    "    'n_estimators': [100, 200, 300, 400, 500],\n",
    "    'max_depth': [3, 6, 9, 12, None]\n",
    "}\n",
    "\n",
    "RF = RandomForestClassifier()\n",
    "grid_search = GridSearchCV(RF, param_grid, cv=5)\n",
    "grid_search.fit(X_train, y_train)\n",
    "\n",
    "best_RF = grid_search.best_estimator_\n",
    "y_pred = best_RF.predict(X_test)\n",
    "\n",
    "# Evaluate\n",
    "test_score = best_RF.score(X_test, y_test)\n",
    "train_score = best_RF.score(X_train, y_train)\n",
    "\n",
    "print(\"Test score: \", test_score)\n",
    "print(\"Training score: \", train_score)\n",
    "print(\"Best parameters: \", grid_search.best_params_)\n"
   ]
  },
  {
   "cell_type": "markdown",
   "id": "55c41fd4",
   "metadata": {},
   "source": [
    "**Random Forest Final Model**"
   ]
  },
  {
   "cell_type": "code",
   "execution_count": 78,
   "id": "2f1b18ea",
   "metadata": {},
   "outputs": [],
   "source": [
    "from sklearn.ensemble import RandomForestClassifier\n",
    "RF = RandomForestClassifier(n_estimators = 100, \n",
    "                             max_depth = 9)\n",
    "\n",
    "RF.fit(X_train, y_train)\n",
    "y_pred = RF.predict(X_test)\n",
    "rf_accuracy_test = RF.score(X_test, y_test)\n",
    "rf_accuracy_train = RF.score(X_train, y_train)"
   ]
  },
  {
   "cell_type": "code",
   "execution_count": 79,
   "id": "2c47b4d3",
   "metadata": {},
   "outputs": [
    {
     "name": "stdout",
     "output_type": "stream",
     "text": [
      "Random Forest Test score:  0.5016606498194945\n",
      "Random Forest Training score:  0.5309430964760254\n"
     ]
    }
   ],
   "source": [
    "print(\"Random Forest Test score: \",rf_accuracy_test)\n",
    "print(\"Random Forest Training score: \", rf_accuracy_train)"
   ]
  },
  {
   "cell_type": "code",
   "execution_count": 80,
   "id": "37bdc405",
   "metadata": {},
   "outputs": [
    {
     "name": "stdout",
     "output_type": "stream",
     "text": [
      "Random Forest Precision: 0.45372496210614993\n",
      "Random Forest Recall: 0.5016606498194945\n",
      "Random Forest F1 score: 0.4257839844163612\n"
     ]
    },
    {
     "name": "stderr",
     "output_type": "stream",
     "text": [
      "/Users/oliviawang/opt/anaconda3/envs/tf/lib/python3.10/site-packages/sklearn/metrics/_classification.py:1334: UndefinedMetricWarning: Precision is ill-defined and being set to 0.0 in labels with no predicted samples. Use `zero_division` parameter to control this behavior.\n",
      "  _warn_prf(average, modifier, msg_start, len(result))\n"
     ]
    }
   ],
   "source": [
    "## Check precision, recall and F1 score\n",
    "from sklearn.metrics import precision_score, recall_score, f1_score\n",
    "\n",
    "rf_precision = precision_score(y_test, y_pred, average='weighted')\n",
    "rf_recall = recall_score(y_test, y_pred, average='weighted')\n",
    "rf_f1 = f1_score(y_test, y_pred, average='weighted')\n",
    "\n",
    "\n",
    "print(\"Random Forest Precision:\", rf_precision)\n",
    "print(\"Random Forest Recall:\", rf_recall)\n",
    "print(\"Random Forest F1 score:\", rf_f1)\n"
   ]
  },
  {
   "cell_type": "markdown",
   "id": "575cbbdb",
   "metadata": {},
   "source": [
    "- The precision of the Random Forest model is about 0.9198, indicating that out of all the instances predicted as positive by the model, approximately 91.98% of them are actually true positives.\n",
    "- The recall of the Random Forest model is also around 0.9208, suggesting that the model is able to correctly identify approximately 92.08% of the positive instances in the test data\n",
    "\n"
   ]
  },
  {
   "cell_type": "markdown",
   "id": "a3394e5c",
   "metadata": {},
   "source": [
    "## 3-b. Gradient Boosting Classifier"
   ]
  },
  {
   "cell_type": "markdown",
   "id": "6ebbe2ab",
   "metadata": {},
   "source": [
    "**Initial Model**"
   ]
  },
  {
   "cell_type": "code",
   "execution_count": 81,
   "id": "8066ce60",
   "metadata": {},
   "outputs": [],
   "source": [
    "from sklearn.ensemble import GradientBoostingClassifier\n",
    "\n",
    "GB = GradientBoostingClassifier(max_depth=5,  n_estimators=100)\n",
    "\n",
    "GB.fit(X_train, y_train)\n",
    "prediction = GB.predict(X_test)\n",
    "\n"
   ]
  },
  {
   "cell_type": "code",
   "execution_count": 82,
   "id": "fb44e53f",
   "metadata": {},
   "outputs": [
    {
     "name": "stdout",
     "output_type": "stream",
     "text": [
      "Test score:  0.5029602888086643\n",
      "Training score:  0.5398613518197574\n"
     ]
    }
   ],
   "source": [
    "print(\"Test score: \",GB.score(X_test, y_test))\n",
    "print(\"Training score: \", GB.score(X_train, y_train))"
   ]
  },
  {
   "cell_type": "markdown",
   "id": "ed17130e",
   "metadata": {},
   "source": [
    "**Hyperparameter tuning with cross validation**"
   ]
  },
  {
   "cell_type": "code",
   "execution_count": 83,
   "id": "58bdf612",
   "metadata": {
    "scrolled": true
   },
   "outputs": [
    {
     "name": "stderr",
     "output_type": "stream",
     "text": [
      "/Users/oliviawang/opt/anaconda3/envs/tf/lib/python3.10/site-packages/sklearn/model_selection/_split.py:684: UserWarning: The least populated class in y has only 4 members, which is less than n_splits=5.\n",
      "  warnings.warn(\n"
     ]
    },
    {
     "name": "stdout",
     "output_type": "stream",
     "text": [
      "Mean CV score: 0.487110134047838 Parameters: {'learning_rate': 0.1, 'max_depth': 3, 'n_estimators': 50}\n",
      "Mean CV score: 0.49581187679356686 Parameters: {'learning_rate': 0.1, 'max_depth': 3, 'n_estimators': 100}\n",
      "Mean CV score: 0.49830323606223803 Parameters: {'learning_rate': 0.1, 'max_depth': 3, 'n_estimators': 150}\n",
      "Mean CV score: 0.4999279803272235 Parameters: {'learning_rate': 0.1, 'max_depth': 3, 'n_estimators': 200}\n",
      "Mean CV score: 0.500036283576321 Parameters: {'learning_rate': 0.1, 'max_depth': 3, 'n_estimators': 250}\n",
      "Mean CV score: 0.5018055625257853 Parameters: {'learning_rate': 0.1, 'max_depth': 5, 'n_estimators': 50}\n",
      "Mean CV score: 0.5006863377051338 Parameters: {'learning_rate': 0.1, 'max_depth': 5, 'n_estimators': 100}\n",
      "Mean CV score: 0.4985560609605795 Parameters: {'learning_rate': 0.1, 'max_depth': 5, 'n_estimators': 150}\n",
      "Mean CV score: 0.49711180255790416 Parameters: {'learning_rate': 0.1, 'max_depth': 5, 'n_estimators': 200}\n",
      "Mean CV score: 0.49462050194778995 Parameters: {'learning_rate': 0.1, 'max_depth': 5, 'n_estimators': 250}\n",
      "Mean CV score: 0.4969313427660638 Parameters: {'learning_rate': 0.1, 'max_depth': 7, 'n_estimators': 50}\n",
      "Mean CV score: 0.4881936683953561 Parameters: {'learning_rate': 0.1, 'max_depth': 7, 'n_estimators': 100}\n",
      "Mean CV score: 0.4794920820724459 Parameters: {'learning_rate': 0.1, 'max_depth': 7, 'n_estimators': 150}\n",
      "Mean CV score: 0.4732096202640547 Parameters: {'learning_rate': 0.1, 'max_depth': 7, 'n_estimators': 200}\n",
      "Mean CV score: 0.467757470330176 Parameters: {'learning_rate': 0.1, 'max_depth': 7, 'n_estimators': 250}\n",
      "Mean CV score: 0.4745816634654302 Parameters: {'learning_rate': 0.1, 'max_depth': 9, 'n_estimators': 50}\n",
      "Mean CV score: 0.46143891395636977 Parameters: {'learning_rate': 0.1, 'max_depth': 9, 'n_estimators': 100}\n",
      "Mean CV score: 0.4516540670258743 Parameters: {'learning_rate': 0.1, 'max_depth': 9, 'n_estimators': 150}\n",
      "Mean CV score: 0.44800749265301565 Parameters: {'learning_rate': 0.1, 'max_depth': 9, 'n_estimators': 200}\n",
      "Mean CV score: 0.44367469137451987 Parameters: {'learning_rate': 0.1, 'max_depth': 9, 'n_estimators': 250}\n",
      "Mean CV score: 0.45010171393785975 Parameters: {'learning_rate': 0.1, 'max_depth': 11, 'n_estimators': 50}\n",
      "Mean CV score: 0.44013634855696687 Parameters: {'learning_rate': 0.1, 'max_depth': 11, 'n_estimators': 100}\n",
      "Mean CV score: 0.4338535804205558 Parameters: {'learning_rate': 0.1, 'max_depth': 11, 'n_estimators': 150}\n",
      "Mean CV score: 0.43215685558849853 Parameters: {'learning_rate': 0.1, 'max_depth': 11, 'n_estimators': 200}\n",
      "Mean CV score: 0.43136250792705216 Parameters: {'learning_rate': 0.1, 'max_depth': 11, 'n_estimators': 250}\n",
      "Mean CV score: 0.4757368524991478 Parameters: {'learning_rate': 0.05, 'max_depth': 3, 'n_estimators': 50}\n",
      "Mean CV score: 0.4869658535504395 Parameters: {'learning_rate': 0.05, 'max_depth': 3, 'n_estimators': 100}\n",
      "Mean CV score: 0.49115424397918794 Parameters: {'learning_rate': 0.05, 'max_depth': 3, 'n_estimators': 150}\n",
      "Mean CV score: 0.49610080929255823 Parameters: {'learning_rate': 0.05, 'max_depth': 3, 'n_estimators': 200}\n",
      "Mean CV score: 0.49776168722866343 Parameters: {'learning_rate': 0.05, 'max_depth': 3, 'n_estimators': 250}\n",
      "Mean CV score: 0.49714776025335283 Parameters: {'learning_rate': 0.05, 'max_depth': 5, 'n_estimators': 50}\n",
      "Mean CV score: 0.5026720080714174 Parameters: {'learning_rate': 0.05, 'max_depth': 5, 'n_estimators': 100}\n",
      "Mean CV score: 0.5042246935579218 Parameters: {'learning_rate': 0.05, 'max_depth': 5, 'n_estimators': 150}\n",
      "Mean CV score: 0.5022388472159671 Parameters: {'learning_rate': 0.05, 'max_depth': 5, 'n_estimators': 200}\n",
      "Mean CV score: 0.5009751398517763 Parameters: {'learning_rate': 0.05, 'max_depth': 5, 'n_estimators': 250}\n",
      "Mean CV score: 0.5030333121945274 Parameters: {'learning_rate': 0.05, 'max_depth': 7, 'n_estimators': 50}\n",
      "Mean CV score: 0.49859218811408174 Parameters: {'learning_rate': 0.05, 'max_depth': 7, 'n_estimators': 100}\n",
      "Mean CV score: 0.4940066792543584 Parameters: {'learning_rate': 0.05, 'max_depth': 7, 'n_estimators': 150}\n",
      "Mean CV score: 0.48678548500524343 Parameters: {'learning_rate': 0.05, 'max_depth': 7, 'n_estimators': 200}\n",
      "Mean CV score: 0.48436638656119424 Parameters: {'learning_rate': 0.05, 'max_depth': 7, 'n_estimators': 250}\n",
      "Mean CV score: 0.49061283201557976 Parameters: {'learning_rate': 0.05, 'max_depth': 9, 'n_estimators': 50}\n",
      "Mean CV score: 0.47812015618818443 Parameters: {'learning_rate': 0.05, 'max_depth': 9, 'n_estimators': 100}\n",
      "Mean CV score: 0.4684074136594923 Parameters: {'learning_rate': 0.05, 'max_depth': 9, 'n_estimators': 150}\n",
      "Mean CV score: 0.4598862610579527 Parameters: {'learning_rate': 0.05, 'max_depth': 9, 'n_estimators': 200}\n",
      "Mean CV score: 0.45465097180934927 Parameters: {'learning_rate': 0.05, 'max_depth': 9, 'n_estimators': 250}\n",
      "Mean CV score: 0.46653004002468873 Parameters: {'learning_rate': 0.05, 'max_depth': 11, 'n_estimators': 50}\n",
      "Mean CV score: 0.4516902658731684 Parameters: {'learning_rate': 0.05, 'max_depth': 11, 'n_estimators': 100}\n",
      "Mean CV score: 0.44436069668116407 Parameters: {'learning_rate': 0.05, 'max_depth': 11, 'n_estimators': 150}\n",
      "Mean CV score: 0.44013628989840986 Parameters: {'learning_rate': 0.05, 'max_depth': 11, 'n_estimators': 200}\n",
      "Mean CV score: 0.43641729176049326 Parameters: {'learning_rate': 0.05, 'max_depth': 11, 'n_estimators': 250}\n",
      "Mean CV score: 0.4288345783068925 Parameters: {'learning_rate': 0.01, 'max_depth': 3, 'n_estimators': 50}\n",
      "Mean CV score: 0.4531342896416158 Parameters: {'learning_rate': 0.01, 'max_depth': 3, 'n_estimators': 100}\n",
      "Mean CV score: 0.46255803449514216 Parameters: {'learning_rate': 0.01, 'max_depth': 3, 'n_estimators': 150}\n",
      "Mean CV score: 0.4690210538596353 Parameters: {'learning_rate': 0.01, 'max_depth': 3, 'n_estimators': 200}\n",
      "Mean CV score: 0.47490641027228647 Parameters: {'learning_rate': 0.01, 'max_depth': 3, 'n_estimators': 250}\n",
      "Mean CV score: 0.4555532251452288 Parameters: {'learning_rate': 0.01, 'max_depth': 5, 'n_estimators': 50}\n",
      "Mean CV score: 0.4837161694919452 Parameters: {'learning_rate': 0.01, 'max_depth': 5, 'n_estimators': 100}\n",
      "Mean CV score: 0.49223719174113595 Parameters: {'learning_rate': 0.01, 'max_depth': 5, 'n_estimators': 150}\n",
      "Mean CV score: 0.4957034627449728 Parameters: {'learning_rate': 0.01, 'max_depth': 5, 'n_estimators': 200}\n",
      "Mean CV score: 0.4987725827297476 Parameters: {'learning_rate': 0.01, 'max_depth': 5, 'n_estimators': 250}\n",
      "Mean CV score: 0.4769283120739515 Parameters: {'learning_rate': 0.01, 'max_depth': 7, 'n_estimators': 50}\n",
      "Mean CV score: 0.49729222976165727 Parameters: {'learning_rate': 0.01, 'max_depth': 7, 'n_estimators': 100}\n",
      "Mean CV score: 0.5006140312571897 Parameters: {'learning_rate': 0.01, 'max_depth': 7, 'n_estimators': 150}\n",
      "Mean CV score: 0.5027804742609512 Parameters: {'learning_rate': 0.01, 'max_depth': 7, 'n_estimators': 200}\n",
      "Mean CV score: 0.5039359500698363 Parameters: {'learning_rate': 0.01, 'max_depth': 7, 'n_estimators': 250}\n",
      "Mean CV score: 0.4837523683392394 Parameters: {'learning_rate': 0.01, 'max_depth': 9, 'n_estimators': 50}\n",
      "Mean CV score: 0.49527030188952254 Parameters: {'learning_rate': 0.01, 'max_depth': 9, 'n_estimators': 100}\n",
      "Mean CV score: 0.49480092263392556 Parameters: {'learning_rate': 0.01, 'max_depth': 9, 'n_estimators': 150}\n",
      "Mean CV score: 0.49303179358966254 Parameters: {'learning_rate': 0.01, 'max_depth': 9, 'n_estimators': 200}\n",
      "Mean CV score: 0.49097384936352206 Parameters: {'learning_rate': 0.01, 'max_depth': 9, 'n_estimators': 250}\n",
      "Mean CV score: 0.4776503858755409 Parameters: {'learning_rate': 0.01, 'max_depth': 11, 'n_estimators': 50}\n",
      "Mean CV score: 0.4814778436853738 Parameters: {'learning_rate': 0.01, 'max_depth': 11, 'n_estimators': 100}\n",
      "Mean CV score: 0.4758454229705606 Parameters: {'learning_rate': 0.01, 'max_depth': 11, 'n_estimators': 150}\n",
      "Mean CV score: 0.4709711249994298 Parameters: {'learning_rate': 0.01, 'max_depth': 11, 'n_estimators': 200}\n",
      "Mean CV score: 0.4675409355257729 Parameters: {'learning_rate': 0.01, 'max_depth': 11, 'n_estimators': 250}\n",
      "Mean CV score: 0.3668038712040581 Parameters: {'learning_rate': 0.001, 'max_depth': 3, 'n_estimators': 50}\n",
      "Mean CV score: 0.3668038712040581 Parameters: {'learning_rate': 0.001, 'max_depth': 3, 'n_estimators': 100}\n",
      "Mean CV score: 0.3668038712040581 Parameters: {'learning_rate': 0.001, 'max_depth': 3, 'n_estimators': 150}\n",
      "Mean CV score: 0.3668038712040581 Parameters: {'learning_rate': 0.001, 'max_depth': 3, 'n_estimators': 200}\n",
      "Mean CV score: 0.3933420256624669 Parameters: {'learning_rate': 0.001, 'max_depth': 3, 'n_estimators': 250}\n",
      "Mean CV score: 0.3668038712040581 Parameters: {'learning_rate': 0.001, 'max_depth': 5, 'n_estimators': 50}\n",
      "Mean CV score: 0.3668038712040581 Parameters: {'learning_rate': 0.001, 'max_depth': 5, 'n_estimators': 100}\n",
      "Mean CV score: 0.3668038712040581 Parameters: {'learning_rate': 0.001, 'max_depth': 5, 'n_estimators': 150}\n",
      "Mean CV score: 0.3800551260083569 Parameters: {'learning_rate': 0.001, 'max_depth': 5, 'n_estimators': 200}\n",
      "Mean CV score: 0.4032352736063215 Parameters: {'learning_rate': 0.001, 'max_depth': 5, 'n_estimators': 250}\n",
      "Mean CV score: 0.3668038712040581 Parameters: {'learning_rate': 0.001, 'max_depth': 7, 'n_estimators': 50}\n",
      "Mean CV score: 0.3668038712040581 Parameters: {'learning_rate': 0.001, 'max_depth': 7, 'n_estimators': 100}\n",
      "Mean CV score: 0.37261701893302696 Parameters: {'learning_rate': 0.001, 'max_depth': 7, 'n_estimators': 150}\n",
      "Mean CV score: 0.38937036556664495 Parameters: {'learning_rate': 0.001, 'max_depth': 7, 'n_estimators': 200}\n",
      "Mean CV score: 0.41431983121977867 Parameters: {'learning_rate': 0.001, 'max_depth': 7, 'n_estimators': 250}\n",
      "Mean CV score: 0.3668038712040581 Parameters: {'learning_rate': 0.001, 'max_depth': 9, 'n_estimators': 50}\n",
      "Mean CV score: 0.3668038712040581 Parameters: {'learning_rate': 0.001, 'max_depth': 9, 'n_estimators': 100}\n",
      "Mean CV score: 0.3764082127193912 Parameters: {'learning_rate': 0.001, 'max_depth': 9, 'n_estimators': 150}\n",
      "Mean CV score: 0.3972776302985786 Parameters: {'learning_rate': 0.001, 'max_depth': 9, 'n_estimators': 200}\n",
      "Mean CV score: 0.42536837247923 Parameters: {'learning_rate': 0.001, 'max_depth': 9, 'n_estimators': 250}\n",
      "Mean CV score: 0.3668038712040581 Parameters: {'learning_rate': 0.001, 'max_depth': 11, 'n_estimators': 50}\n",
      "Mean CV score: 0.3668038712040581 Parameters: {'learning_rate': 0.001, 'max_depth': 11, 'n_estimators': 100}\n",
      "Mean CV score: 0.3788995719880623 Parameters: {'learning_rate': 0.001, 'max_depth': 11, 'n_estimators': 150}\n",
      "Mean CV score: 0.4075319346960803 Parameters: {'learning_rate': 0.001, 'max_depth': 11, 'n_estimators': 200}\n",
      "Mean CV score: 0.43475612704922045 Parameters: {'learning_rate': 0.001, 'max_depth': 11, 'n_estimators': 250}\n"
     ]
    },
    {
     "name": "stdout",
     "output_type": "stream",
     "text": [
      "Test score: 0.5032490974729242\n",
      "Training score: 0.532206816868862\n",
      "Best parameters: {'learning_rate': 0.05, 'max_depth': 5, 'n_estimators': 150}\n"
     ]
    }
   ],
   "source": [
    "from sklearn.ensemble import GradientBoostingClassifier\n",
    "from sklearn.model_selection import GridSearchCV\n",
    "\n",
    "# hyperparameter grid\n",
    "param_grid = {\n",
    "    'learning_rate': [0.1, 0.05, 0.01, 0.001],\n",
    "    'max_depth': [3, 5, 7, 9, 11],\n",
    "    'n_estimators': [50, 100, 150, 200, 250]\n",
    "}\n",
    "\n",
    "\n",
    "GB = GradientBoostingClassifier()\n",
    "grid_search = GridSearchCV(GB, param_grid, cv=5)\n",
    "grid_search.fit(X_train, y_train)\n",
    "\n",
    "# print the cross-validation scores\n",
    "cv_results = grid_search.cv_results_\n",
    "for mean_score, params in zip(cv_results[\"mean_test_score\"], cv_results[\"params\"]):\n",
    "    print(\"Mean CV score:\", mean_score, \"Parameters:\", params)\n",
    "\n",
    "\n",
    "best_GB = grid_search.best_estimator_\n",
    "best_cv_score = grid_search.best_score_\n",
    "\n",
    "# predict the test \n",
    "prediction = best_GB.predict(X_test)\n",
    "\n",
    "\n",
    "print(\"Test score:\", best_GB.score(X_test, y_test))\n",
    "print(\"Training score:\", best_GB.score(X_train, y_train))\n",
    "print(\"Best parameters:\", grid_search.best_params_)"
   ]
  },
  {
   "cell_type": "markdown",
   "id": "d01f2b31",
   "metadata": {},
   "source": [
    "**Gradient Boost Final Model**"
   ]
  },
  {
   "cell_type": "code",
   "execution_count": 84,
   "id": "52c2d2e7",
   "metadata": {},
   "outputs": [
    {
     "name": "stdout",
     "output_type": "stream",
     "text": [
      "Test score:  0.5036823104693141\n",
      "Training score:  0.5327845176198729\n"
     ]
    }
   ],
   "source": [
    "from sklearn.ensemble import GradientBoostingClassifier\n",
    "GB = GradientBoostingClassifier(learning_rate=0.05, max_depth=5, n_estimators=150)\n",
    "\n",
    "GB.fit(X_train, y_train)\n",
    "prediction = GB.predict(X_test)\n",
    "gb_accuracy_test = GB.score(X_test, y_test)\n",
    "gb_accuracy_train = GB.score(X_train, y_train)\n",
    "\n",
    "print(\"Test score: \", gb_accuracy_test)\n",
    "print(\"Training score: \", gb_accuracy_train)\n"
   ]
  },
  {
   "cell_type": "code",
   "execution_count": 85,
   "id": "dd1e728f",
   "metadata": {},
   "outputs": [
    {
     "name": "stdout",
     "output_type": "stream",
     "text": [
      "Gradient Boosting Classifier Precision: 0.47771794850654065\n",
      "Gradient Boosting Classifier Recall: 0.5036823104693141\n",
      "Gradient Boosting Classifier F1 score: 0.43929449697331124\n"
     ]
    },
    {
     "name": "stderr",
     "output_type": "stream",
     "text": [
      "/Users/oliviawang/opt/anaconda3/envs/tf/lib/python3.10/site-packages/sklearn/metrics/_classification.py:1334: UndefinedMetricWarning: Precision is ill-defined and being set to 0.0 in labels with no predicted samples. Use `zero_division` parameter to control this behavior.\n",
      "  _warn_prf(average, modifier, msg_start, len(result))\n"
     ]
    }
   ],
   "source": [
    "## Check precision, recall, and F1 score\n",
    "gb_precision = precision_score(y_test, prediction, average='weighted')\n",
    "gb_recall = recall_score(y_test, prediction, average='weighted')\n",
    "gb_f1 = f1_score(y_test, prediction, average='weighted')\n",
    "\n",
    "print(\"Gradient Boosting Classifier Precision:\", gb_precision)\n",
    "print(\"Gradient Boosting Classifier Recall:\", gb_recall)\n",
    "print(\"Gradient Boosting Classifier F1 score:\", gb_f1)\n"
   ]
  },
  {
   "cell_type": "markdown",
   "id": "dca969bb",
   "metadata": {},
   "source": [
    "- The precision score of 0.9637 indicates that out of all instances predicted as positive by the model, approximately 96.37% of them are actually true positives. This indicates a high level of accuracy in predicting positive instances.\n",
    "\n",
    "- The recall score of 0.9639 also suggests that the model correctly identifies approximately 96.39% of the positive instances present in the test data. This indicates a high level of sensitivity in detecting positive instances."
   ]
  },
  {
   "cell_type": "markdown",
   "id": "76880b25",
   "metadata": {},
   "source": [
    "## 3-c. Nueral Network"
   ]
  },
  {
   "cell_type": "code",
   "execution_count": 86,
   "id": "e3184df6",
   "metadata": {},
   "outputs": [],
   "source": [
    "from sklearn.neural_network import MLPClassifier\n",
    "\n",
    "MLP = MLPClassifier(solver='adam', activation='logistic', alpha=0.4, tol=1e-5,\n",
    "                        hidden_layer_sizes=(100, 20), max_iter=500)\n",
    "MLP.fit(X_train, y_train)\n",
    "prediction = MLP.predict(X_test)\n"
   ]
  },
  {
   "cell_type": "code",
   "execution_count": 87,
   "id": "67977ead",
   "metadata": {},
   "outputs": [
    {
     "name": "stdout",
     "output_type": "stream",
     "text": [
      "Test score:  0.4352346570397112\n",
      "Training score:  0.4303509532062392\n"
     ]
    }
   ],
   "source": [
    "print(\"Test score: \",MLP.score(X_test, y_test))\n",
    "print(\"Training score: \", MLP.score(X_train, y_train))"
   ]
  },
  {
   "cell_type": "markdown",
   "id": "62928e68",
   "metadata": {},
   "source": [
    "**Hyperparameter tuning with cross validation**"
   ]
  },
  {
   "cell_type": "code",
   "execution_count": 88,
   "id": "e511c4dd",
   "metadata": {},
   "outputs": [
    {
     "name": "stderr",
     "output_type": "stream",
     "text": [
      "/Users/oliviawang/opt/anaconda3/envs/tf/lib/python3.10/site-packages/sklearn/model_selection/_split.py:684: UserWarning: The least populated class in y has only 4 members, which is less than n_splits=5.\n",
      "  warnings.warn(\n"
     ]
    },
    {
     "name": "stdout",
     "output_type": "stream",
     "text": [
      "Test score: 0.43971119133574005\n",
      "Training score: 0.4392331022530329\n",
      "Best parameters: {'activation': 'logistic', 'alpha': 0.3, 'hidden_layer_sizes': (100,), 'max_iter': 300, 'solver': 'adam'}\n"
     ]
    }
   ],
   "source": [
    "from sklearn.neural_network import MLPClassifier\n",
    "from sklearn.model_selection import GridSearchCV\n",
    "\n",
    "# Define the parameter grid for hyperparameter tuning\n",
    "param_grid = {\n",
    "    'solver': ['adam'],\n",
    "    'activation': ['logistic', 'relu'],\n",
    "    'alpha': [0.1, 0.2, 0.3],\n",
    "    'hidden_layer_sizes': [(100,), (100, 50), (50, 20)],\n",
    "    'max_iter': [200, 300, 400]\n",
    "}\n",
    "\n",
    "\n",
    "mlp = MLPClassifier()\n",
    "grid_search = GridSearchCV(mlp, param_grid, cv=5)\n",
    "\n",
    "grid_search.fit(X_train, y_train)\n",
    "\n",
    "best_model = grid_search.best_estimator_\n",
    "best_params = grid_search.best_params_\n",
    "\n",
    "\n",
    "test_score = best_model.score(X_test, y_test)\n",
    "train_score = best_model.score(X_train, y_train)\n",
    "\n",
    "print(\"Test score:\", test_score)\n",
    "print(\"Training score:\", train_score)\n",
    "print(\"Best parameters:\", best_params)\n"
   ]
  },
  {
   "cell_type": "markdown",
   "id": "7f6bd81c",
   "metadata": {},
   "source": [
    "**Neural Network Final Model**"
   ]
  },
  {
   "cell_type": "code",
   "execution_count": 89,
   "id": "9391aac8",
   "metadata": {},
   "outputs": [
    {
     "name": "stdout",
     "output_type": "stream",
     "text": [
      "Test score:  0.5036823104693141\n",
      "Training score:  0.5327845176198729\n"
     ]
    }
   ],
   "source": [
    "from sklearn.neural_network import MLPClassifier\n",
    "MLP = MLPClassifier(solver='adam', activation='logistic', alpha=0.3,\n",
    "                        hidden_layer_sizes=(100, ), max_iter=300)\n",
    "MLP.fit(X_train, y_train)\n",
    "prediction = MLP.predict(X_test)\n",
    "mlp_accuracy_test = GB.score(X_test, y_test)\n",
    "mlp_accuracy_train = GB.score(X_train, y_train)\n",
    "\n",
    "print(\"Test score: \", mlp_accuracy_test)\n",
    "print(\"Training score: \", mlp_accuracy_train)"
   ]
  },
  {
   "cell_type": "code",
   "execution_count": 90,
   "id": "9345b51c",
   "metadata": {},
   "outputs": [
    {
     "name": "stdout",
     "output_type": "stream",
     "text": [
      "Nerual Network Precision: 0.31642019139600136\n",
      "Nerual Network Recall: 0.44548736462093863\n",
      "Nerual Network F1 score: 0.3521251823047284\n"
     ]
    },
    {
     "name": "stderr",
     "output_type": "stream",
     "text": [
      "/Users/oliviawang/opt/anaconda3/envs/tf/lib/python3.10/site-packages/sklearn/metrics/_classification.py:1334: UndefinedMetricWarning: Precision is ill-defined and being set to 0.0 in labels with no predicted samples. Use `zero_division` parameter to control this behavior.\n",
      "  _warn_prf(average, modifier, msg_start, len(result))\n"
     ]
    }
   ],
   "source": [
    "## Check precision and recall \n",
    "mlp_precision = precision_score(y_test, prediction, average='weighted')\n",
    "mlp_recall = recall_score(y_test, prediction, average='weighted')\n",
    "mlp_f1 = f1_score(y_test, prediction, average='weighted')\n",
    "\n",
    "print(\"Nerual Network Precision:\", mlp_precision)\n",
    "print(\"Nerual Network Recall:\", mlp_recall)\n",
    "print(\"Nerual Network F1 score:\", mlp_f1)\n"
   ]
  },
  {
   "cell_type": "markdown",
   "id": "ef8d2947",
   "metadata": {},
   "source": [
    "## 3-d. XGBoost"
   ]
  },
  {
   "cell_type": "code",
   "execution_count": 91,
   "id": "be960de4",
   "metadata": {},
   "outputs": [],
   "source": [
    "import xgboost as xgb\n",
    "\n",
    "first_XBG = xgb.XGBClassifier()\n",
    "\n",
    "first_XBG.fit(X_train, y_train)\n",
    "first_prediction = first_XBG.predict(X_test)\n",
    "\n",
    "xgb_accuracy_test = first_XBG.score(X_test, y_test)\n",
    "xgb_accuracy_train = first_XBG.score(X_train, y_train)"
   ]
  },
  {
   "cell_type": "code",
   "execution_count": 92,
   "id": "764ec5df",
   "metadata": {},
   "outputs": [
    {
     "name": "stdout",
     "output_type": "stream",
     "text": [
      "Test score:  0.5059927797833935\n",
      "Training score:  0.5570840554592721\n"
     ]
    }
   ],
   "source": [
    "print(\"Test score: \", xgb_accuracy_test)\n",
    "print(\"Training score: \", xgb_accuracy_train)"
   ]
  },
  {
   "cell_type": "markdown",
   "id": "34cf0bda",
   "metadata": {},
   "source": [
    "**Hyperparameter tuning with cross validation** (skip, trained in Spyder)\n",
    "- Best parameters: {'learning_rate': 0.1, 'max_depth': 5, 'n_estimators': 200}"
   ]
  },
  {
   "cell_type": "code",
   "execution_count": 95,
   "id": "bd42e151",
   "metadata": {},
   "outputs": [],
   "source": [
    "# import xgboost as xgb\n",
    "# from sklearn.model_selection import GridSearchCV\n",
    "# param_grid = {\n",
    "#     'max_depth': [3, 5, 7],\n",
    "#     'n_estimators': [100, 200, 300],\n",
    "#     'learning_rate': [0.1, 0.01, 0.001]\n",
    "# }\n",
    "\n",
    "\n",
    "# XBG = xgb.XGBClassifier()\n",
    "\n",
    "# grid_search = GridSearchCV(XBG, param_grid, cv=5)\n",
    "\n",
    "# grid_search.fit(X_train, y_train)\n",
    "\n",
    "# best_model = grid_search.best_estimator_\n",
    "# best_params = grid_search.best_params_\n",
    "\n",
    "# test_score = best_model.score(X_test, y_test)\n",
    "# train_score = best_model.score(X_train, y_train)\n",
    "\n",
    "# print(\"Test score:\", test_score)\n",
    "# print(\"Training score:\", train_score)\n",
    "# print(\"Best parameters:\", best_params)\n"
   ]
  },
  {
   "cell_type": "markdown",
   "id": "239d34a5",
   "metadata": {},
   "source": [
    "**Since the test score is very close to the test score from out initial model, we decided to choose the initial model for simplicity reason.**"
   ]
  },
  {
   "cell_type": "code",
   "execution_count": 93,
   "id": "2031259c",
   "metadata": {},
   "outputs": [
    {
     "name": "stdout",
     "output_type": "stream",
     "text": [
      "XGBoost Classifier Precision: 0.4731449244591162\n",
      "XGBoost Classifier Recall: 0.5059927797833935\n",
      "XGBoost Classifier F1 score: 0.44812284468874547\n"
     ]
    },
    {
     "name": "stderr",
     "output_type": "stream",
     "text": [
      "/Users/oliviawang/opt/anaconda3/envs/tf/lib/python3.10/site-packages/sklearn/metrics/_classification.py:1334: UndefinedMetricWarning: Precision is ill-defined and being set to 0.0 in labels with no predicted samples. Use `zero_division` parameter to control this behavior.\n",
      "  _warn_prf(average, modifier, msg_start, len(result))\n"
     ]
    }
   ],
   "source": [
    "from sklearn.metrics import precision_score, recall_score\n",
    "\n",
    "xgb_precision = precision_score(y_test, first_prediction, average='weighted')\n",
    "xgb_recall = recall_score(y_test, first_prediction, average='weighted')\n",
    "xgb_f1 = f1_score(y_test, first_prediction, average = 'weighted')\n",
    "\n",
    "print(\"XGBoost Classifier Precision:\", xgb_precision)\n",
    "print(\"XGBoost Classifier Recall:\", xgb_recall)\n",
    "print(\"XGBoost Classifier F1 score:\", xgb_f1)\n"
   ]
  },
  {
   "cell_type": "markdown",
   "id": "56053cb4",
   "metadata": {},
   "source": [
    "# 4. Model Comparison"
   ]
  },
  {
   "cell_type": "code",
   "execution_count": 94,
   "id": "dbe7ba81",
   "metadata": {},
   "outputs": [
    {
     "data": {
      "image/png": "[encoded data removed]",
      "text/plain": [
       "<Figure size 1000x600 with 4 Axes>"
      ]
     },
     "metadata": {},
     "output_type": "display_data"
    }
   ],
   "source": [
    "import matplotlib.pyplot as plt\n",
    "\n",
    "# Define the models and their corresponding performance metrics\n",
    "models = ['RandomForest', 'GradientBoosting', 'MLP', 'XGBoost']\n",
    "accuracies = [rf_accuracy_test, gb_accuracy_test, mlp_accuracy_test, xgb_accuracy_test]\n",
    "precisions = [rf_precision, gb_precision, mlp_precision, xgb_precision]\n",
    "recalls = [rf_recall, gb_recall, mlp_recall, xgb_recall]\n",
    "f1_scores = [rf_f1, gb_f1, mlp_f1, xgb_f1]\n",
    "\n",
    "# Plot the metrics\n",
    "plt.figure(figsize=(10, 6))\n",
    "\n",
    "# Accuracy\n",
    "plt.subplot(221)\n",
    "plt.bar(models, accuracies)\n",
    "plt.title('Accuracy')\n",
    "plt.ylim(0, 1)\n",
    "\n",
    "# Precision\n",
    "plt.subplot(222)\n",
    "plt.bar(models, precisions)\n",
    "plt.title('Precision')\n",
    "plt.ylim(0, 1)\n",
    "\n",
    "# Recall\n",
    "plt.subplot(223)\n",
    "plt.bar(models, recalls)\n",
    "plt.title('Recall')\n",
    "plt.ylim(0, 1)\n",
    "\n",
    "# F1-score\n",
    "plt.subplot(224)\n",
    "plt.bar(models, f1_scores)\n",
    "plt.title('F1-score')\n",
    "plt.ylim(0, 1)\n",
    "\n",
    "plt.tight_layout()\n",
    "plt.show()\n"
   ]
  },
  {
   "cell_type": "markdown",
   "id": "6be61e03",
   "metadata": {},
   "source": [
    "According to the above bar charts, gradient boosting classifier and XGBoost are the top 2 models with the best metrics. Although both Gradient Boosting and XGBoost show excellent performance, XGBoost is preferred since its initial model was picked. As a result, we chose the XGBoost model because to its performance, efficiency, and simplicity. "
   ]
  },
  {
   "cell_type": "code",
   "execution_count": null,
   "id": "842dd83a",
   "metadata": {},
   "outputs": [],
   "source": []
  }
 ],
 "metadata": {
  "kernelspec": {
   "display_name": "Python 3 (ipykernel)",
   "language": "python",
   "name": "python3"
  },
  "language_info": {
   "codemirror_mode": {
    "name": "ipython",
    "version": 3
   },
   "file_extension": ".py",
   "mimetype": "text/x-python",
   "name": "python",
   "nbconvert_exporter": "python",
   "pygments_lexer": "ipython3",
   "version": "3.10.8"
  }
 },
 "nbformat": 4,
 "nbformat_minor": 5
}
